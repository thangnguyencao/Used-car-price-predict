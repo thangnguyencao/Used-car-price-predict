{
 "cells": [
  {
   "attachments": {},
   "cell_type": "markdown",
   "metadata": {},
   "source": [
    "# Load data and EDA"
   ]
  },
  {
   "cell_type": "code",
   "execution_count": 1,
   "metadata": {},
   "outputs": [],
   "source": [
    "import pandas as pd\n",
    "import numpy as np\n",
    "import matplotlib.pyplot as plt\n",
    "import seaborn as sns\n",
    "from sklearn.model_selection import train_test_split\n",
    "from sklearn.preprocessing import StandardScaler\n",
    "from xgboost import XGBRegressor\n",
    "from sklearn.metrics import r2_score,mean_absolute_error\n",
    "from sklearn.model_selection import GridSearchCV"
   ]
  },
  {
   "cell_type": "code",
   "execution_count": 3,
   "metadata": {},
   "outputs": [],
   "source": [
    "x_train = pd.read_csv(\"D:\\CS116 Python4ML\\DoAnCK\\X_train.csv\")  #Features\n",
    "x_test = pd.read_csv(\"D:\\CS116 Python4ML\\DoAnCK\\X_test.csv\")   #Features_Test\n",
    "y_train = pd.read_csv(\"D:\\CS116 Python4ML\\DoAnCK\\y_train.csv\")  #Targets\n",
    "y_test = pd.read_csv('D:\\CS116 Python4ML\\DoAnCK\\y_test.csv')  #Targets_Test"
   ]
  },
  {
   "cell_type": "code",
   "execution_count": null,
   "metadata": {},
   "outputs": [],
   "source": []
  }
 ],
 "metadata": {
  "kernelspec": {
   "display_name": "cs116",
   "language": "python",
   "name": "python3"
  },
  "language_info": {
   "codemirror_mode": {
    "name": "ipython",
    "version": 3
   },
   "file_extension": ".py",
   "mimetype": "text/x-python",
   "name": "python",
   "nbconvert_exporter": "python",
   "pygments_lexer": "ipython3",
   "version": "3.9.13"
  },
  "orig_nbformat": 4,
  "vscode": {
   "interpreter": {
    "hash": "d330e1ec786d530b2f42537c413dee174bdad1cf0132ab62c0d1b3df0c6a8b2f"
   }
  }
 },
 "nbformat": 4,
 "nbformat_minor": 2
}
